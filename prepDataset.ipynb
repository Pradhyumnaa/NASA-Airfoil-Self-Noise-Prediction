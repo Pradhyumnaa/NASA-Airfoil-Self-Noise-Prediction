{
 "cells": [
  {
   "cell_type": "code",
   "execution_count": 1,
   "metadata": {},
   "outputs": [],
   "source": [
    "import pandas as pd\n",
    "import numpy as np"
   ]
  },
  {
   "cell_type": "code",
   "execution_count": 2,
   "metadata": {},
   "outputs": [],
   "source": [
    "# Load the dataset\n",
    "data = pd.read_csv(\"AirfoilSelfNoise.csv\")\n",
    "\n",
    "# Randomly shuffle the dataset\n",
    "data_shuffled = data.sample(frac=1)  # Adjust the random_state as desired for reproducibility"
   ]
  },
  {
   "cell_type": "code",
   "execution_count": 3,
   "metadata": {},
   "outputs": [],
   "source": [
    "# Create a random test set of 100 lines\n",
    "test_set = data_shuffled.sample(n=100)  # Adjust the random_state as desired for reproducibility\n",
    "\n",
    "# Remove the test set from the shuffled data\n",
    "remaining_data = data_shuffled.drop(test_set.index)\n",
    "\n",
    "# Create a validation set with 20% of the remaining data\n",
    "validation_set = remaining_data.sample(frac=0.1)\n",
    "\n",
    "# Remove the validation set from the remaining data\n",
    "training_set = remaining_data.drop(validation_set.index)"
   ]
  },
  {
   "cell_type": "code",
   "execution_count": 4,
   "metadata": {},
   "outputs": [],
   "source": [
    "# Save the sets to separate CSV files\n",
    "test_set.to_csv(\"test_set.csv\", index=False)\n",
    "validation_set.to_csv(\"validation_set.csv\", index=False)\n",
    "training_set.to_csv(\"training_set.csv\", index=False)"
   ]
  }
 ],
 "metadata": {
  "kernelspec": {
   "display_name": "base",
   "language": "python",
   "name": "python3"
  },
  "language_info": {
   "codemirror_mode": {
    "name": "ipython",
    "version": 3
   },
   "file_extension": ".py",
   "mimetype": "text/x-python",
   "name": "python",
   "nbconvert_exporter": "python",
   "pygments_lexer": "ipython3",
   "version": "3.9.13"
  },
  "orig_nbformat": 4
 },
 "nbformat": 4,
 "nbformat_minor": 2
}
